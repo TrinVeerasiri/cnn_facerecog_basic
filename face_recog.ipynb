{
 "cells": [
  {
   "cell_type": "markdown",
   "metadata": {},
   "source": [
    "# Face recognition"
   ]
  },
  {
   "cell_type": "markdown",
   "metadata": {},
   "source": [
    "This notebook uses the CNN model create in \"train_faces.ipynb\" to classify faces. The result is done in real-time. "
   ]
  },
  {
   "cell_type": "code",
   "execution_count": 1,
   "metadata": {},
   "outputs": [
    {
     "name": "stderr",
     "output_type": "stream",
     "text": [
      "Using TensorFlow backend.\n"
     ]
    }
   ],
   "source": [
    "import numpy as np\n",
    "from keras.models import load_model\n",
    "from keras.preprocessing.image import ImageDataGenerator\n",
    "from keras.preprocessing import image \n",
    "import matplotlib.pyplot as plt\n",
    "%matplotlib inline\n",
    "\n",
    "import cv2"
   ]
  },
  {
   "cell_type": "markdown",
   "metadata": {},
   "source": [
    "Load Keras model training in \"train_faces.ipynb\""
   ]
  },
  {
   "cell_type": "code",
   "execution_count": 2,
   "metadata": {
    "collapsed": true
   },
   "outputs": [],
   "source": [
    "classifier = load_model('face_recog_3faces.h5')"
   ]
  },
  {
   "cell_type": "markdown",
   "metadata": {},
   "source": [
    "Preprocess the data"
   ]
  },
  {
   "cell_type": "code",
   "execution_count": 3,
   "metadata": {},
   "outputs": [
    {
     "name": "stdout",
     "output_type": "stream",
     "text": [
      "Found 1350 images belonging to 3 classes.\n"
     ]
    }
   ],
   "source": [
    "train_datagen = ImageDataGenerator(rescale = 1./255,\n",
    "                                   shear_range = 0.2,\n",
    "                                   zoom_range = 0.2,\n",
    "                                   rotation_range=40,\n",
    "                                   horizontal_flip = True)\n",
    "\n",
    "#test_datagen = ImageDataGenerator(rescale = 1./255)\n",
    "\n",
    "training_set = train_datagen.flow_from_directory('dataset/train',\n",
    "                                                 target_size = (32, 32),\n",
    "                                                 batch_size = 16,\n",
    "                                                 class_mode = 'categorical')\n",
    "\n",
    "#test_set = test_datagen.flow_from_directory('dataset/test',\n",
    "#                                            target_size = (32, 32),\n",
    "#                                            batch_size = 16,\n",
    "#                                            class_mode = 'binary')"
   ]
  },
  {
   "cell_type": "markdown",
   "metadata": {},
   "source": [
    "Predict new data. We have 3 categories here, so the result is one hot encoder matrix 1x3 (example is [0, 1, 0]). Finding the index of the maximum value and set it to name of the target. This will make us identify the person easier. "
   ]
  },
  {
   "cell_type": "code",
   "execution_count": 4,
   "metadata": {
    "collapsed": true
   },
   "outputs": [],
   "source": [
    "def predict_newdata(data):\n",
    "    #prediction = ''\n",
    "    images = image.img_to_array(data)\n",
    "    images = np.expand_dims(images, axis = 0)\n",
    "    result = classifier.predict(images)\n",
    "    training_set.class_indices\n",
    "    \n",
    "    # If we have more than 2 category, the result will be one hot encoder matrix. \n",
    "    # We have to find the index of the max value.\n",
    "    #print(result)\n",
    "    max_pos = np.argmax(result)\n",
    "    \n",
    "    if max_pos == 0:\n",
    "        prediction = 'kum'\n",
    "    elif max_pos == 1:\n",
    "        prediction = 'r'\n",
    "    elif max_pos == 2:\n",
    "        prediction = 'trin'\n",
    "        \n",
    "    return prediction"
   ]
  },
  {
   "cell_type": "markdown",
   "metadata": {},
   "source": [
    "Run a live feed from webcam. The predict result will shown on the lower right corner of the frame."
   ]
  },
  {
   "cell_type": "code",
   "execution_count": 5,
   "metadata": {},
   "outputs": [],
   "source": [
    "def show_webcam(mirror=False):\n",
    "    #count = 0\n",
    "    cam = cv2.VideoCapture(1)\n",
    "    while True:\n",
    "        ret_val, img = cam.read()\n",
    "        # Resize image to 32x32 pixels\n",
    "        test = cv2.resize(img, (32,32))\n",
    "        predict = predict_newdata(test)\n",
    "\n",
    "        # Predict result\n",
    "        #print('Result :',predict_newdata(test))\n",
    "        if predict == 'trin':\n",
    "            cv2.putText(img, predict_newdata(test), (400,400), cv2.FONT_HERSHEY_SIMPLEX, 2, (255,0,0))\n",
    "        elif predict == 'kum':\n",
    "            cv2.putText(img, predict_newdata(test), (400,400), cv2.FONT_HERSHEY_SIMPLEX, 2, (0,255,0))\n",
    "        elif predict == 'r':\n",
    "            cv2.putText(img, predict_newdata(test), (400,400), cv2.FONT_HERSHEY_SIMPLEX, 2, (0,0,255))\n",
    "            \n",
    "        cv2.imshow('my webcam', img)\n",
    "        if cv2.waitKey(1) == 27: \n",
    "            break  # esc to quit\n",
    "    cv2.destroyAllWindows()\n",
    "\n",
    "def main():\n",
    "    show_webcam(mirror=True)\n",
    "\n",
    "if __name__ == '__main__':\n",
    "    main()"
   ]
  }
 ],
 "metadata": {
  "kernelspec": {
   "display_name": "Python 3",
   "language": "python",
   "name": "python3"
  },
  "language_info": {
   "codemirror_mode": {
    "name": "ipython",
    "version": 3
   },
   "file_extension": ".py",
   "mimetype": "text/x-python",
   "name": "python",
   "nbconvert_exporter": "python",
   "pygments_lexer": "ipython3",
   "version": "3.6.3"
  }
 },
 "nbformat": 4,
 "nbformat_minor": 2
}
